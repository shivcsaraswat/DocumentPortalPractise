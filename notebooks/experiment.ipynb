{
 "cells": [
  {
   "cell_type": "markdown",
   "id": "7b4a372b",
   "metadata": {},
   "source": [
    "# 1. Data Ingestion"
   ]
  },
  {
   "cell_type": "code",
   "execution_count": 2,
   "id": "f212ba89",
   "metadata": {},
   "outputs": [
    {
     "name": "stdout",
     "output_type": "stream",
     "text": [
      "Requirement already satisfied: python-dotenv in c:\\users\\shivc\\onedrive\\desktop\\documentportalagent\\env\\lib\\site-packages (1.1.1)\n",
      "Note: you may need to restart the kernel to use updated packages.\n"
     ]
    }
   ],
   "source": [
    "pip install python-dotenv"
   ]
  },
  {
   "cell_type": "code",
   "execution_count": 3,
   "id": "7dfd5c55",
   "metadata": {},
   "outputs": [
    {
     "name": "stderr",
     "output_type": "stream",
     "text": [
      "c:\\Users\\shivc\\OneDrive\\Desktop\\DocumentPortalAgent\\env\\lib\\site-packages\\tqdm\\auto.py:21: TqdmWarning: IProgress not found. Please update jupyter and ipywidgets. See https://ipywidgets.readthedocs.io/en/stable/user_install.html\n",
      "  from .autonotebook import tqdm as notebook_tqdm\n"
     ]
    }
   ],
   "source": [
    "from langchain.document_loaders import PyPDFLoader\n",
    "from langchain.text_splitter import RecursiveCharacterTextSplitter\n",
    "import os\n",
    "import sentence_transformers\n",
    "from langchain_core.output_parsers import StrOutputParser\n",
    "from dotenv import load_dotenv"
   ]
  },
  {
   "cell_type": "code",
   "execution_count": 4,
   "id": "32ac9771",
   "metadata": {},
   "outputs": [
    {
     "data": {
      "text/plain": [
       "True"
      ]
     },
     "execution_count": 4,
     "metadata": {},
     "output_type": "execute_result"
    }
   ],
   "source": [
    "load_dotenv()"
   ]
  },
  {
   "cell_type": "code",
   "execution_count": 5,
   "id": "f1967885",
   "metadata": {},
   "outputs": [],
   "source": [
    "\n",
    "file_path = os.path.join(os.getcwd(), \"../data/experimental/CoverLetter.pdf\")\n",
    "loader = PyPDFLoader(file_path)\n",
    "documents = loader.load()\n"
   ]
  },
  {
   "cell_type": "code",
   "execution_count": 6,
   "id": "a65d66b6",
   "metadata": {},
   "outputs": [
    {
     "data": {
      "text/plain": [
       "\"Dear Connor, Clark & Lunn Investment Management Hiring Team, \\nI am writing to express my strong interest in the Quantitative Developer position within your quantitative equity \\nfund. As a final-year student pursuing a double degree in Computer Science from the University of Waterloo \\nand Business Administration from Wilfrid Laurier University, I am excited by the opportunity to apply technology \\nto drive investment decisions in a fund managing over $38 billion in assets. \\nTechnical Excellence with Analytical Depth \\nMy computer science background provides programming knowledge and analytical mindset essential for \\nquantitative development. Through coursework in Machine Learning, Neural Networks, and Optimization, \\ncombined with experience in Python, R, and SQL, I have developed the foundation to work with your \\ntechnology stack. My passion for learning new technologies was demonstrated when I mastered React.js \\nduring a live PwC project, delivering under tight deadlines. \\nAt Dare Foods, I developed a Decision Tree Regression model on complex datasets to optimize shelf \\nplacement strategies, resulting in an expected 5% sales lift. I also created a novel data integration approach \\ncombining disparate data sources to calculate SKU penetration growth—solving a problem existing practices \\nhad deemed unfeasible. This innovative problem-solving approach directly applies to quantitative equity \\ndevelopment. \\nInvestment Domain Interest \\nMy business degree, particularly coursework in Investment Management and Options, Futures and \\nDerivatives, has fostered genuine interest in financial markets. At PepsiCo, I engineered a machine learning \\nmodel that reduced forecasting time from 12 weeks to 11 hours across 105 accounts, demonstrating how \\nalgorithmic solutions can transform operational efficiency—skills that transfer directly to quantitative investment \\nstrategies. \\nCollaborative Problem-Solving \\nYour emphasis on collaboration aligns with my experience leading cross-functional teams. At PwC, I led 3 \\nassociates in architecting a disaster recovery strategy for a multi-million-dollar RFP that we successfully won. I \\nregularly translate technical capabilities into business value, presenting project impacts to executives including \\nPepsiCo's VP of Strategy and Transformation—exactly the communication needed when working with portfolio \\nmanagers and analysts. \\nWhy Connor, Clark & Lunn \\nI am particularly drawn to CC&L's entrepreneurial culture and your position within the broader CC&L Financial \\nGroup managing over $155 billion in assets. The opportunity to own the entire software lifecycle—from \\ncollaborating on investment problems to implementing solutions—appeals to my desire for end-to-end impact \\nin Vancouver's innovative West Coast environment. \\nI am excited to bring my analytical rigor, technical skills, and business understanding to help develop the \\ninnovative technologies that power your quantitative strategies. Thank you for considering my application. \\nSincerely, \\n Shiv Chandra Saraswat\""
      ]
     },
     "execution_count": 6,
     "metadata": {},
     "output_type": "execute_result"
    }
   ],
   "source": [
    "documents[0].page_content"
   ]
  },
  {
   "cell_type": "code",
   "execution_count": 7,
   "id": "5e37352d",
   "metadata": {},
   "outputs": [
    {
     "data": {
      "text/plain": [
       "Document(metadata={'producer': 'Microsoft® Word for Microsoft 365', 'creator': 'Microsoft® Word for Microsoft 365', 'creationdate': '2025-09-26T20:56:18-04:00', 'author': 'Shiv C Saraswat', 'moddate': '2025-09-26T20:56:18-04:00', 'source': 'c:\\\\Users\\\\shivc\\\\OneDrive\\\\Desktop\\\\DocumentPortalAgent\\\\notebooks\\\\../data/experimental/CoverLetter.pdf', 'total_pages': 1, 'page': 0, 'page_label': '1'}, page_content=\"Dear Connor, Clark & Lunn Investment Management Hiring Team, \\nI am writing to express my strong interest in the Quantitative Developer position within your quantitative equity \\nfund. As a final-year student pursuing a double degree in Computer Science from the University of Waterloo \\nand Business Administration from Wilfrid Laurier University, I am excited by the opportunity to apply technology \\nto drive investment decisions in a fund managing over $38 billion in assets. \\nTechnical Excellence with Analytical Depth \\nMy computer science background provides programming knowledge and analytical mindset essential for \\nquantitative development. Through coursework in Machine Learning, Neural Networks, and Optimization, \\ncombined with experience in Python, R, and SQL, I have developed the foundation to work with your \\ntechnology stack. My passion for learning new technologies was demonstrated when I mastered React.js \\nduring a live PwC project, delivering under tight deadlines. \\nAt Dare Foods, I developed a Decision Tree Regression model on complex datasets to optimize shelf \\nplacement strategies, resulting in an expected 5% sales lift. I also created a novel data integration approach \\ncombining disparate data sources to calculate SKU penetration growth—solving a problem existing practices \\nhad deemed unfeasible. This innovative problem-solving approach directly applies to quantitative equity \\ndevelopment. \\nInvestment Domain Interest \\nMy business degree, particularly coursework in Investment Management and Options, Futures and \\nDerivatives, has fostered genuine interest in financial markets. At PepsiCo, I engineered a machine learning \\nmodel that reduced forecasting time from 12 weeks to 11 hours across 105 accounts, demonstrating how \\nalgorithmic solutions can transform operational efficiency—skills that transfer directly to quantitative investment \\nstrategies. \\nCollaborative Problem-Solving \\nYour emphasis on collaboration aligns with my experience leading cross-functional teams. At PwC, I led 3 \\nassociates in architecting a disaster recovery strategy for a multi-million-dollar RFP that we successfully won. I \\nregularly translate technical capabilities into business value, presenting project impacts to executives including \\nPepsiCo's VP of Strategy and Transformation—exactly the communication needed when working with portfolio \\nmanagers and analysts. \\nWhy Connor, Clark & Lunn \\nI am particularly drawn to CC&L's entrepreneurial culture and your position within the broader CC&L Financial \\nGroup managing over $155 billion in assets. The opportunity to own the entire software lifecycle—from \\ncollaborating on investment problems to implementing solutions—appeals to my desire for end-to-end impact \\nin Vancouver's innovative West Coast environment. \\nI am excited to bring my analytical rigor, technical skills, and business understanding to help develop the \\ninnovative technologies that power your quantitative strategies. Thank you for considering my application. \\nSincerely, \\n Shiv Chandra Saraswat\")"
      ]
     },
     "execution_count": 7,
     "metadata": {},
     "output_type": "execute_result"
    }
   ],
   "source": [
    "documents[0]"
   ]
  },
  {
   "cell_type": "code",
   "execution_count": 8,
   "id": "92fc1c36",
   "metadata": {},
   "outputs": [],
   "source": [
    "textsplitter = RecursiveCharacterTextSplitter(\n",
    "    chunk_size = 500, \n",
    "    chunk_overlap = 150, \n",
    "    length_function = len\n",
    ")"
   ]
  },
  {
   "cell_type": "code",
   "execution_count": 9,
   "id": "7b7c3a8b",
   "metadata": {},
   "outputs": [],
   "source": [
    "documents = textsplitter.split_documents(documents)"
   ]
  },
  {
   "cell_type": "code",
   "execution_count": 10,
   "id": "7133ad62",
   "metadata": {},
   "outputs": [
    {
     "data": {
      "text/plain": [
       "{'producer': 'Microsoft® Word for Microsoft 365',\n",
       " 'creator': 'Microsoft® Word for Microsoft 365',\n",
       " 'creationdate': '2025-09-26T20:56:18-04:00',\n",
       " 'author': 'Shiv C Saraswat',\n",
       " 'moddate': '2025-09-26T20:56:18-04:00',\n",
       " 'source': 'c:\\\\Users\\\\shivc\\\\OneDrive\\\\Desktop\\\\DocumentPortalAgent\\\\notebooks\\\\../data/experimental/CoverLetter.pdf',\n",
       " 'total_pages': 1,\n",
       " 'page': 0,\n",
       " 'page_label': '1'}"
      ]
     },
     "execution_count": 10,
     "metadata": {},
     "output_type": "execute_result"
    }
   ],
   "source": [
    "documents[8].metadata"
   ]
  },
  {
   "cell_type": "markdown",
   "id": "d347b048",
   "metadata": {},
   "source": [
    "# 2. Data Retreival "
   ]
  },
  {
   "cell_type": "code",
   "execution_count": 11,
   "id": "708ca649",
   "metadata": {},
   "outputs": [],
   "source": [
    "from langchain.vectorstores import FAISS\n",
    "from langchain_huggingface import HuggingFaceEmbeddings"
   ]
  },
  {
   "cell_type": "code",
   "execution_count": 12,
   "id": "cc0d0702",
   "metadata": {},
   "outputs": [],
   "source": [
    "embeddings = HuggingFaceEmbeddings(\n",
    "    model_name=\"sentence-transformers/all-MiniLM-L6-v2\"  # Fast and efficient\n",
    ")"
   ]
  },
  {
   "cell_type": "code",
   "execution_count": 13,
   "id": "81ea0980",
   "metadata": {},
   "outputs": [],
   "source": [
    "vectorStore = FAISS.from_documents(documents, embeddings)"
   ]
  },
  {
   "cell_type": "code",
   "execution_count": 14,
   "id": "ac8edbb8",
   "metadata": {},
   "outputs": [
    {
     "data": {
      "text/plain": [
       "[Document(id='f5c975a6-cddc-454c-93ee-b70b676da83d', metadata={'producer': 'Microsoft® Word for Microsoft 365', 'creator': 'Microsoft® Word for Microsoft 365', 'creationdate': '2025-09-26T20:56:18-04:00', 'author': 'Shiv C Saraswat', 'moddate': '2025-09-26T20:56:18-04:00', 'source': 'c:\\\\Users\\\\shivc\\\\OneDrive\\\\Desktop\\\\DocumentPortalAgent\\\\notebooks\\\\../data/experimental/CoverLetter.pdf', 'total_pages': 1, 'page': 0, 'page_label': '1'}, page_content='to drive investment decisions in a fund managing over $38 billion in assets. \\nTechnical Excellence with Analytical Depth \\nMy computer science background provides programming knowledge and analytical mindset essential for \\nquantitative development. Through coursework in Machine Learning, Neural Networks, and Optimization, \\ncombined with experience in Python, R, and SQL, I have developed the foundation to work with your'),\n",
       " Document(id='78ad60b9-7021-4feb-9d16-1bdd27c6d68d', metadata={'producer': 'Microsoft® Word for Microsoft 365', 'creator': 'Microsoft® Word for Microsoft 365', 'creationdate': '2025-09-26T20:56:18-04:00', 'author': 'Shiv C Saraswat', 'moddate': '2025-09-26T20:56:18-04:00', 'source': 'c:\\\\Users\\\\shivc\\\\OneDrive\\\\Desktop\\\\DocumentPortalAgent\\\\notebooks\\\\../data/experimental/CoverLetter.pdf', 'total_pages': 1, 'page': 0, 'page_label': '1'}, page_content='development. \\nInvestment Domain Interest \\nMy business degree, particularly coursework in Investment Management and Options, Futures and \\nDerivatives, has fostered genuine interest in financial markets. At PepsiCo, I engineered a machine learning \\nmodel that reduced forecasting time from 12 weeks to 11 hours across 105 accounts, demonstrating how \\nalgorithmic solutions can transform operational efficiency—skills that transfer directly to quantitative investment \\nstrategies.'),\n",
       " Document(id='7c95955c-9945-4d7a-93a1-f137c3fd0f86', metadata={'producer': 'Microsoft® Word for Microsoft 365', 'creator': 'Microsoft® Word for Microsoft 365', 'creationdate': '2025-09-26T20:56:18-04:00', 'author': 'Shiv C Saraswat', 'moddate': '2025-09-26T20:56:18-04:00', 'source': 'c:\\\\Users\\\\shivc\\\\OneDrive\\\\Desktop\\\\DocumentPortalAgent\\\\notebooks\\\\../data/experimental/CoverLetter.pdf', 'total_pages': 1, 'page': 0, 'page_label': '1'}, page_content=\"Group managing over $155 billion in assets. The opportunity to own the entire software lifecycle—from \\ncollaborating on investment problems to implementing solutions—appeals to my desire for end-to-end impact \\nin Vancouver's innovative West Coast environment. \\nI am excited to bring my analytical rigor, technical skills, and business understanding to help develop the \\ninnovative technologies that power your quantitative strategies. Thank you for considering my application. \\nSincerely,\"),\n",
       " Document(id='93b30a61-f7b7-4e0a-bc72-ccd8f9890d47', metadata={'producer': 'Microsoft® Word for Microsoft 365', 'creator': 'Microsoft® Word for Microsoft 365', 'creationdate': '2025-09-26T20:56:18-04:00', 'author': 'Shiv C Saraswat', 'moddate': '2025-09-26T20:56:18-04:00', 'source': 'c:\\\\Users\\\\shivc\\\\OneDrive\\\\Desktop\\\\DocumentPortalAgent\\\\notebooks\\\\../data/experimental/CoverLetter.pdf', 'total_pages': 1, 'page': 0, 'page_label': '1'}, page_content='innovative technologies that power your quantitative strategies. Thank you for considering my application. \\nSincerely, \\n Shiv Chandra Saraswat')]"
      ]
     },
     "execution_count": 14,
     "metadata": {},
     "output_type": "execute_result"
    }
   ],
   "source": [
    "vectorStore.similarity_search('What is the capital of India')"
   ]
  },
  {
   "cell_type": "code",
   "execution_count": 15,
   "id": "c6293fde",
   "metadata": {},
   "outputs": [],
   "source": [
    "retriever  = vectorStore.as_retriever(search_kwargs = {'k' : 10})"
   ]
  },
  {
   "cell_type": "code",
   "execution_count": 16,
   "id": "8f6c9337",
   "metadata": {},
   "outputs": [
    {
     "data": {
      "text/plain": [
       "[Document(id='be2c0910-8354-48eb-bd5a-bc997f5bf674', metadata={'producer': 'Microsoft® Word for Microsoft 365', 'creator': 'Microsoft® Word for Microsoft 365', 'creationdate': '2025-09-26T20:56:18-04:00', 'author': 'Shiv C Saraswat', 'moddate': '2025-09-26T20:56:18-04:00', 'source': 'c:\\\\Users\\\\shivc\\\\OneDrive\\\\Desktop\\\\DocumentPortalAgent\\\\notebooks\\\\../data/experimental/CoverLetter.pdf', 'total_pages': 1, 'page': 0, 'page_label': '1'}, page_content='combined with experience in Python, R, and SQL, I have developed the foundation to work with your \\ntechnology stack. My passion for learning new technologies was demonstrated when I mastered React.js \\nduring a live PwC project, delivering under tight deadlines. \\nAt Dare Foods, I developed a Decision Tree Regression model on complex datasets to optimize shelf \\nplacement strategies, resulting in an expected 5% sales lift. I also created a novel data integration approach'),\n",
       " Document(id='46f7a31e-f96e-4ace-967f-1b5b9ce60422', metadata={'producer': 'Microsoft® Word for Microsoft 365', 'creator': 'Microsoft® Word for Microsoft 365', 'creationdate': '2025-09-26T20:56:18-04:00', 'author': 'Shiv C Saraswat', 'moddate': '2025-09-26T20:56:18-04:00', 'source': 'c:\\\\Users\\\\shivc\\\\OneDrive\\\\Desktop\\\\DocumentPortalAgent\\\\notebooks\\\\../data/experimental/CoverLetter.pdf', 'total_pages': 1, 'page': 0, 'page_label': '1'}, page_content='Dear Connor, Clark & Lunn Investment Management Hiring Team, \\nI am writing to express my strong interest in the Quantitative Developer position within your quantitative equity \\nfund. As a final-year student pursuing a double degree in Computer Science from the University of Waterloo \\nand Business Administration from Wilfrid Laurier University, I am excited by the opportunity to apply technology \\nto drive investment decisions in a fund managing over $38 billion in assets.'),\n",
       " Document(id='25f1f28e-3764-4ff5-99ff-a2de9acce69c', metadata={'producer': 'Microsoft® Word for Microsoft 365', 'creator': 'Microsoft® Word for Microsoft 365', 'creationdate': '2025-09-26T20:56:18-04:00', 'author': 'Shiv C Saraswat', 'moddate': '2025-09-26T20:56:18-04:00', 'source': 'c:\\\\Users\\\\shivc\\\\OneDrive\\\\Desktop\\\\DocumentPortalAgent\\\\notebooks\\\\../data/experimental/CoverLetter.pdf', 'total_pages': 1, 'page': 0, 'page_label': '1'}, page_content=\"regularly translate technical capabilities into business value, presenting project impacts to executives including \\nPepsiCo's VP of Strategy and Transformation—exactly the communication needed when working with portfolio \\nmanagers and analysts. \\nWhy Connor, Clark & Lunn \\nI am particularly drawn to CC&L's entrepreneurial culture and your position within the broader CC&L Financial \\nGroup managing over $155 billion in assets. The opportunity to own the entire software lifecycle—from\"),\n",
       " Document(id='f5c975a6-cddc-454c-93ee-b70b676da83d', metadata={'producer': 'Microsoft® Word for Microsoft 365', 'creator': 'Microsoft® Word for Microsoft 365', 'creationdate': '2025-09-26T20:56:18-04:00', 'author': 'Shiv C Saraswat', 'moddate': '2025-09-26T20:56:18-04:00', 'source': 'c:\\\\Users\\\\shivc\\\\OneDrive\\\\Desktop\\\\DocumentPortalAgent\\\\notebooks\\\\../data/experimental/CoverLetter.pdf', 'total_pages': 1, 'page': 0, 'page_label': '1'}, page_content='to drive investment decisions in a fund managing over $38 billion in assets. \\nTechnical Excellence with Analytical Depth \\nMy computer science background provides programming knowledge and analytical mindset essential for \\nquantitative development. Through coursework in Machine Learning, Neural Networks, and Optimization, \\ncombined with experience in Python, R, and SQL, I have developed the foundation to work with your'),\n",
       " Document(id='bdf04916-d17e-4f99-a280-aa6a97d87d8f', metadata={'producer': 'Microsoft® Word for Microsoft 365', 'creator': 'Microsoft® Word for Microsoft 365', 'creationdate': '2025-09-26T20:56:18-04:00', 'author': 'Shiv C Saraswat', 'moddate': '2025-09-26T20:56:18-04:00', 'source': 'c:\\\\Users\\\\shivc\\\\OneDrive\\\\Desktop\\\\DocumentPortalAgent\\\\notebooks\\\\../data/experimental/CoverLetter.pdf', 'total_pages': 1, 'page': 0, 'page_label': '1'}, page_content='algorithmic solutions can transform operational efficiency—skills that transfer directly to quantitative investment \\nstrategies. \\nCollaborative Problem-Solving \\nYour emphasis on collaboration aligns with my experience leading cross-functional teams. At PwC, I led 3 \\nassociates in architecting a disaster recovery strategy for a multi-million-dollar RFP that we successfully won. I \\nregularly translate technical capabilities into business value, presenting project impacts to executives including'),\n",
       " Document(id='730833a0-4ac7-4641-9cc5-6b308fd0af18', metadata={'producer': 'Microsoft® Word for Microsoft 365', 'creator': 'Microsoft® Word for Microsoft 365', 'creationdate': '2025-09-26T20:56:18-04:00', 'author': 'Shiv C Saraswat', 'moddate': '2025-09-26T20:56:18-04:00', 'source': 'c:\\\\Users\\\\shivc\\\\OneDrive\\\\Desktop\\\\DocumentPortalAgent\\\\notebooks\\\\../data/experimental/CoverLetter.pdf', 'total_pages': 1, 'page': 0, 'page_label': '1'}, page_content='placement strategies, resulting in an expected 5% sales lift. I also created a novel data integration approach \\ncombining disparate data sources to calculate SKU penetration growth—solving a problem existing practices \\nhad deemed unfeasible. This innovative problem-solving approach directly applies to quantitative equity \\ndevelopment. \\nInvestment Domain Interest \\nMy business degree, particularly coursework in Investment Management and Options, Futures and'),\n",
       " Document(id='7c95955c-9945-4d7a-93a1-f137c3fd0f86', metadata={'producer': 'Microsoft® Word for Microsoft 365', 'creator': 'Microsoft® Word for Microsoft 365', 'creationdate': '2025-09-26T20:56:18-04:00', 'author': 'Shiv C Saraswat', 'moddate': '2025-09-26T20:56:18-04:00', 'source': 'c:\\\\Users\\\\shivc\\\\OneDrive\\\\Desktop\\\\DocumentPortalAgent\\\\notebooks\\\\../data/experimental/CoverLetter.pdf', 'total_pages': 1, 'page': 0, 'page_label': '1'}, page_content=\"Group managing over $155 billion in assets. The opportunity to own the entire software lifecycle—from \\ncollaborating on investment problems to implementing solutions—appeals to my desire for end-to-end impact \\nin Vancouver's innovative West Coast environment. \\nI am excited to bring my analytical rigor, technical skills, and business understanding to help develop the \\ninnovative technologies that power your quantitative strategies. Thank you for considering my application. \\nSincerely,\"),\n",
       " Document(id='78ad60b9-7021-4feb-9d16-1bdd27c6d68d', metadata={'producer': 'Microsoft® Word for Microsoft 365', 'creator': 'Microsoft® Word for Microsoft 365', 'creationdate': '2025-09-26T20:56:18-04:00', 'author': 'Shiv C Saraswat', 'moddate': '2025-09-26T20:56:18-04:00', 'source': 'c:\\\\Users\\\\shivc\\\\OneDrive\\\\Desktop\\\\DocumentPortalAgent\\\\notebooks\\\\../data/experimental/CoverLetter.pdf', 'total_pages': 1, 'page': 0, 'page_label': '1'}, page_content='development. \\nInvestment Domain Interest \\nMy business degree, particularly coursework in Investment Management and Options, Futures and \\nDerivatives, has fostered genuine interest in financial markets. At PepsiCo, I engineered a machine learning \\nmodel that reduced forecasting time from 12 weeks to 11 hours across 105 accounts, demonstrating how \\nalgorithmic solutions can transform operational efficiency—skills that transfer directly to quantitative investment \\nstrategies.'),\n",
       " Document(id='93b30a61-f7b7-4e0a-bc72-ccd8f9890d47', metadata={'producer': 'Microsoft® Word for Microsoft 365', 'creator': 'Microsoft® Word for Microsoft 365', 'creationdate': '2025-09-26T20:56:18-04:00', 'author': 'Shiv C Saraswat', 'moddate': '2025-09-26T20:56:18-04:00', 'source': 'c:\\\\Users\\\\shivc\\\\OneDrive\\\\Desktop\\\\DocumentPortalAgent\\\\notebooks\\\\../data/experimental/CoverLetter.pdf', 'total_pages': 1, 'page': 0, 'page_label': '1'}, page_content='innovative technologies that power your quantitative strategies. Thank you for considering my application. \\nSincerely, \\n Shiv Chandra Saraswat')]"
      ]
     },
     "execution_count": 16,
     "metadata": {},
     "output_type": "execute_result"
    }
   ],
   "source": [
    "retriever.invoke('What is thy name')"
   ]
  },
  {
   "cell_type": "markdown",
   "id": "d32d5ced",
   "metadata": {},
   "source": [
    "# 3. Data Generation"
   ]
  },
  {
   "cell_type": "code",
   "execution_count": 17,
   "id": "d62e9899",
   "metadata": {},
   "outputs": [],
   "source": [
    "from langchain.prompts import PromptTemplate"
   ]
  },
  {
   "cell_type": "code",
   "execution_count": 18,
   "id": "7d6676d5",
   "metadata": {},
   "outputs": [],
   "source": [
    "prompt_template = '''\n",
    "May I request you to answer the following question based on the provided context and question.\n",
    "context : {context}\n",
    "question : {question}\n",
    "May I additionally request you to provide an appropriate consolation message in case if you are unable to answer the question.\n",
    "'''\n"
   ]
  },
  {
   "cell_type": "code",
   "execution_count": 19,
   "id": "6fcb8e82",
   "metadata": {},
   "outputs": [],
   "source": [
    "prompt = PromptTemplate(template = prompt_template, input = ['context', 'question'])"
   ]
  },
  {
   "cell_type": "markdown",
   "id": "43dd3d06",
   "metadata": {},
   "source": [
    "## LLM"
   ]
  },
  {
   "cell_type": "code",
   "execution_count": 46,
   "id": "886c0bb9",
   "metadata": {},
   "outputs": [],
   "source": [
    "from langchain_groq import ChatGroq\n",
    "from langchain_core.output_parsers import StrOutputParser\n",
    "from langchain_core.runnables import RunnablePassthrough\n",
    "llm = ChatGroq(model = 'deepseek-r1-distill-llama-70b')"
   ]
  },
  {
   "cell_type": "code",
   "execution_count": 53,
   "id": "491820ff",
   "metadata": {},
   "outputs": [],
   "source": [
    "def format_docs(documents): \n",
    "    '/n/n'.join(docs.page_content for docs in documents)"
   ]
  },
  {
   "cell_type": "code",
   "execution_count": 54,
   "id": "4812c912",
   "metadata": {},
   "outputs": [],
   "source": [
    "rag_chain = {'context' : retriever  | format_docs, 'question' : RunnablePassthrough()} | prompt | llm | StrOutputParser()"
   ]
  },
  {
   "cell_type": "code",
   "execution_count": 55,
   "id": "fa8dce5d",
   "metadata": {},
   "outputs": [
    {
     "data": {
      "text/plain": [
       "'<think>\\nOkay, so I need to figure out the name of the company based on the context provided. But wait, the context is \"None.\" Hmm, that\\'s a bit confusing. Let me try to break this down.\\n\\nFirst, the user is asking for the company\\'s name, but there\\'s no context given. Without any information, it\\'s impossible to determine which company they\\'re referring to. Maybe the context was supposed to be provided but wasn\\'t, or perhaps it\\'s a mistake. \\n\\nI should consider that the user might have intended to include some details but forgot. Alternatively, they might be testing how I handle situations with missing information. Either way, I can\\'t proceed without more data.\\n\\nI remember that sometimes, when context is missing, it\\'s best to politely inform the user that the information isn\\'t available and ask for more details. That way, I can assist them better once they provide the necessary context.\\n\\nSo, I\\'ll let them know that without the context, I can\\'t find the company\\'s name. I\\'ll also offer my help if they can provide more information. It\\'s important to be helpful and encouraging, so they feel comfortable giving more details in the future.\\n\\nI should make sure my response is clear and friendly. Maybe something like, \"I\\'m sorry, but I don\\'t have the context needed to provide the company\\'s name. If you could share more details, I\\'d be happy to help!\"\\n\\nThat should cover it. It\\'s honest about the limitations but also opens the door for further assistance once the user provides more information.\\n</think>\\n\\nI\\'m sorry, but I don\\'t have the context needed to provide the company\\'s name. If you could share more details, I\\'d be happy to help!'"
      ]
     },
     "execution_count": 55,
     "metadata": {},
     "output_type": "execute_result"
    }
   ],
   "source": [
    "rag_chain.invoke('What is the name of the company?')"
   ]
  },
  {
   "cell_type": "code",
   "execution_count": null,
   "id": "9368f5ce",
   "metadata": {},
   "outputs": [],
   "source": []
  }
 ],
 "metadata": {
  "kernelspec": {
   "display_name": "Python 3",
   "language": "python",
   "name": "python3"
  },
  "language_info": {
   "codemirror_mode": {
    "name": "ipython",
    "version": 3
   },
   "file_extension": ".py",
   "mimetype": "text/x-python",
   "name": "python",
   "nbconvert_exporter": "python",
   "pygments_lexer": "ipython3",
   "version": "3.10.18"
  }
 },
 "nbformat": 4,
 "nbformat_minor": 5
}
